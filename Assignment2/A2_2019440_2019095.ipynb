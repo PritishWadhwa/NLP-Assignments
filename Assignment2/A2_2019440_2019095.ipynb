{
 "cells": [
  {
   "cell_type": "code",
   "execution_count": 52,
   "source": [
    "from tqdm import tqdm\n",
    "import json\n",
    "import numpy as np\n",
    "import os"
   ],
   "outputs": [],
   "metadata": {}
  },
  {
   "cell_type": "markdown",
   "source": [
    "# Loading the training and validation data"
   ],
   "metadata": {}
  },
  {
   "cell_type": "code",
   "execution_count": 2,
   "source": [
    "trainData = './train.txt'\n",
    "with open(trainData) as f:\n",
    "    corpus = f.read()\n",
    "sentences = corpus.splitlines()"
   ],
   "outputs": [],
   "metadata": {}
  },
  {
   "cell_type": "code",
   "execution_count": 3,
   "source": [
    "validationDataPath = './validation.jsonl'\n",
    "with open('validation.jsonl') as f:\n",
    "    validationData = [json.loads(line) for line in f]"
   ],
   "outputs": [],
   "metadata": {}
  },
  {
   "cell_type": "markdown",
   "source": [
    "# Creating the unigram and bigram frequency dictionaries for the training data"
   ],
   "metadata": {}
  },
  {
   "cell_type": "code",
   "execution_count": 74,
   "source": [
    "wordFreq = {}\n",
    "totalWords = 0\n",
    "noBigrams = 0\n",
    "bigramFreq = {}\n",
    "removeSet = [',', '.', '?', '!']\n",
    "for i in tqdm(range(len(sentences))):\n",
    "    # Preprocessing each sentence\n",
    "    words = sentences[i].split()\n",
    "    words = ['<start>'] + words + ['<end>']\n",
    "    words = [word for word in words if word not in removeSet]\n",
    "    # Creating unigram frequency map\n",
    "    for word in words:\n",
    "        totalWords += 1\n",
    "        if word not in wordFreq:\n",
    "            wordFreq[word] = 1\n",
    "        else:\n",
    "            wordFreq[word] += 1\n",
    "    # Creating bigram frequency map\n",
    "    for j in range(len(words) - 1):\n",
    "        noBigrams += 1\n",
    "        bigram = words[j] + ' ' + words[j + 1]\n",
    "        if bigram not in bigramFreq:\n",
    "            bigramFreq[bigram] = 1\n",
    "        else:\n",
    "            bigramFreq[bigram] += 1\n"
   ],
   "outputs": [
    {
     "output_type": "stream",
     "name": "stderr",
     "text": [
      "100%|██████████| 2206501/2206501 [03:03<00:00, 12003.64it/s]\n"
     ]
    }
   ],
   "metadata": {}
  },
  {
   "cell_type": "code",
   "execution_count": 75,
   "source": [
    "wordSet = set(wordFreq.keys())\n",
    "bigramSet = set(bigramFreq.keys())"
   ],
   "outputs": [],
   "metadata": {}
  },
  {
   "cell_type": "markdown",
   "source": [
    "# Bigram Language Model"
   ],
   "metadata": {}
  },
  {
   "cell_type": "markdown",
   "source": [
    "## 1. Without Smoothing"
   ],
   "metadata": {}
  },
  {
   "cell_type": "code",
   "execution_count": 76,
   "source": [
    "correctPred = 0\n",
    "totalPred = 0\n",
    "outFile = './output.txt'\n",
    "with open(outFile, 'a') as f:\n",
    "    f.write(\"Bigram Language Model - Without Smoothing\" + os.linesep)\n",
    "    for i in tqdm(range(len(validationData))):\n",
    "        lineToAdd = \"Question: \"\n",
    "        lineToAdd += validationData[i]['question']\n",
    "        # Preprocessing each sentence in validation data\n",
    "        words = validationData[i]['question'].split()\n",
    "        words = ['<start>'] + words + ['<end>']\n",
    "        words = [word for word in words if word not in removeSet]\n",
    "        index = words.index('XXXXX')\n",
    "        options = validationData[i]['options']\n",
    "        counts = []\n",
    "        # Calculating the probability of each option\n",
    "        for option in options:\n",
    "            key = str(words[index-1] + ' ' + option)\n",
    "            if key not in bigramFreq:\n",
    "                counts.append(0)\n",
    "            else:\n",
    "                counts.append(bigramFreq[key]/float(wordFreq[words[index-1]]))\n",
    "        counts = np.array(counts)\n",
    "        # Choosing the best option\n",
    "        pred = np.argmax(counts)\n",
    "        totalPred += 1\n",
    "        lineToAdd += \" Prediction: \"\n",
    "        lineToAdd += options[pred]\n",
    "        if options[pred] == validationData[i]['answer']:\n",
    "            correctPred += 1\n",
    "        f.write(lineToAdd + os.linesep)\n",
    "print(f\"Accuracy on validataion set: {correctPred * 100 / totalPred}%\")\n"
   ],
   "outputs": [
    {
     "output_type": "stream",
     "name": "stderr",
     "text": [
      "100%|██████████| 2000/2000 [00:00<00:00, 12776.37it/s]"
     ]
    },
    {
     "output_type": "stream",
     "name": "stdout",
     "text": [
      "Accuracy on validataion set: 56.2%\n"
     ]
    },
    {
     "output_type": "stream",
     "name": "stderr",
     "text": [
      "\n"
     ]
    }
   ],
   "metadata": {}
  },
  {
   "cell_type": "markdown",
   "source": [
    "## 2. Add-1 Smoothing"
   ],
   "metadata": {}
  },
  {
   "cell_type": "code",
   "execution_count": 77,
   "source": [
    "correctPred = 0\n",
    "totalPred = 0\n",
    "outFile = './output.txt'\n",
    "with open(outFile, 'a') as f:\n",
    "    f.write(os.linesep + \"Bigram Language Model - Add-1 Smoothing\" + os.linesep)\n",
    "    for i in tqdm(range(len(validationData))):\n",
    "        lineToAdd = \"Question: \"\n",
    "        lineToAdd += validationData[i]['question']\n",
    "        words = validationData[i]['question'].split()\n",
    "        words = ['<start>'] + words + ['<end>']\n",
    "        words = [word for word in words if word not in removeSet]\n",
    "        index = words.index('XXXXX')\n",
    "        options = validationData[i]['options']\n",
    "        counts = []\n",
    "        for option in options:\n",
    "            key = str(words[index-1] + ' ' + option)\n",
    "            prevWordCount = 0\n",
    "            if words[index-1] in wordFreq:\n",
    "                prevWordCount = wordFreq[words[index-1]]\n",
    "            if key not in bigramFreq:\n",
    "                counts.append(1/(float(prevWordCount) + len(wordSet)))\n",
    "            else:\n",
    "                counts.append((bigramFreq[key] + 1) /\n",
    "                            float(prevWordCount + len(wordSet)))\n",
    "        counts = np.array(counts)\n",
    "        pred = np.argmax(counts)\n",
    "        totalPred += 1\n",
    "        lineToAdd += \" Prediction: \"\n",
    "        lineToAdd += options[pred]\n",
    "        if options[pred] == validationData[i]['answer']:\n",
    "            correctPred += 1\n",
    "        f.write(lineToAdd + os.linesep)\n",
    "    print(f\"Accuracy on validataion set: {correctPred * 100 / totalPred}%\")\n"
   ],
   "outputs": [
    {
     "output_type": "stream",
     "name": "stderr",
     "text": [
      "100%|██████████| 2000/2000 [00:00<00:00, 13054.07it/s]"
     ]
    },
    {
     "output_type": "stream",
     "name": "stdout",
     "text": [
      "Accuracy on validataion set: 56.2%\n"
     ]
    },
    {
     "output_type": "stream",
     "name": "stderr",
     "text": [
      "\n"
     ]
    }
   ],
   "metadata": {}
  },
  {
   "cell_type": "markdown",
   "source": [
    "## 3. Add-k Smoothing"
   ],
   "metadata": {}
  },
  {
   "cell_type": "markdown",
   "source": [
    "### Without using the formula m = k*V"
   ],
   "metadata": {}
  },
  {
   "cell_type": "code",
   "execution_count": 78,
   "source": [
    "K = 0.00001\n",
    "correctPred = 0\n",
    "totalPred = 0\n",
    "outFile = './output.txt'\n",
    "with open(outFile, 'a') as f:\n",
    "    f.write(os.linesep + \"Bigram Language Model - Add-k Smoothing without using the formula m = k*V\" + os.linesep)\n",
    "    for i in tqdm(range(len(validationData))):\n",
    "        lineToAdd = \"Question: \"\n",
    "        lineToAdd += validationData[i]['question']\n",
    "        words = validationData[i]['question'].split()\n",
    "        words = ['<start>'] + words + ['<end>']\n",
    "        words = [word for word in words if word not in removeSet]\n",
    "        index = words.index('XXXXX')\n",
    "        options = validationData[i]['options']\n",
    "        counts = []\n",
    "        for option in options:\n",
    "            key = str(words[index-1] + ' ' + option)\n",
    "            prevWordCount = 0\n",
    "            if words[index-1] in wordFreq:\n",
    "                prevWordCount = wordFreq[words[index-1]]\n",
    "            if key not in bigramFreq:\n",
    "                counts.append(K/(float(prevWordCount) + K*len(wordSet)))\n",
    "            else:\n",
    "                counts.append((bigramFreq[key] + K) /\n",
    "                            float(prevWordCount + K*len(wordSet)))\n",
    "        counts = np.array(counts)\n",
    "        pred = np.argmax(counts)\n",
    "        totalPred += 1\n",
    "        lineToAdd += \" Prediction: \"\n",
    "        lineToAdd += options[pred]\n",
    "        if options[pred] == validationData[i]['answer']:\n",
    "            correctPred += 1\n",
    "        f.write(lineToAdd + os.linesep)\n",
    "    print(f\"Accuracy on validataion set: {correctPred * 100 / totalPred}%\")\n"
   ],
   "outputs": [
    {
     "output_type": "stream",
     "name": "stderr",
     "text": [
      "100%|██████████| 2000/2000 [00:00<00:00, 14061.66it/s]"
     ]
    },
    {
     "output_type": "stream",
     "name": "stdout",
     "text": [
      "Accuracy on validataion set: 56.2%\n"
     ]
    },
    {
     "output_type": "stream",
     "name": "stderr",
     "text": [
      "\n"
     ]
    }
   ],
   "metadata": {}
  },
  {
   "cell_type": "markdown",
   "source": [
    "### With using the formula m = k*V, assuming V is the number of distinct words in vocabulary"
   ],
   "metadata": {}
  },
  {
   "cell_type": "code",
   "execution_count": 79,
   "source": [
    "K = 0.00001\n",
    "correctPred = 0\n",
    "totalPred = 0\n",
    "outFile = './output.txt'\n",
    "with open(outFile, 'a') as f:\n",
    "    f.write(os.linesep + \"Bigram Language Model - Add-k Smoothing With using the formula m = k*V, assuming V is the number of distinct words in vocabulary\" + os.linesep)\n",
    "    for i in tqdm(range(len(validationData))):\n",
    "        lineToAdd = \"Question: \"\n",
    "        lineToAdd += validationData[i]['question']\n",
    "        words = validationData[i]['question'].split()\n",
    "        words = ['<start>'] + words + ['<end>']\n",
    "        words = [word for word in words if word not in removeSet]\n",
    "        index = words.index('XXXXX')\n",
    "        words[index-1]\n",
    "        options = validationData[i]['options']\n",
    "        counts = []\n",
    "        for option in options:\n",
    "            key = str(words[index-1] + ' ' + option)\n",
    "            prevWordCount = 0\n",
    "            m = K*len(wordSet)\n",
    "            probOpt = 1 / float(len(wordSet)) #P(Wi)    \n",
    "            if words[index-1] in wordFreq:\n",
    "                prevWordCount = wordFreq[words[index-1]]\n",
    "            if key not in bigramFreq:\n",
    "                counts.append(m*probOpt/float(prevWordCount + m))\n",
    "            else:\n",
    "                counts.append(\n",
    "                    (bigramFreq[key]+m*probOpt)/float(prevWordCount + m))\n",
    "        counts = np.array(counts)\n",
    "        pred = np.argmax(counts)\n",
    "        totalPred += 1\n",
    "        lineToAdd += \" Prediction: \"\n",
    "        lineToAdd += options[pred]\n",
    "        if options[pred] == validationData[i]['answer']:\n",
    "            correctPred += 1\n",
    "        f.write(lineToAdd + os.linesep)\n",
    "    print(f\"Accuracy on validataion set: {correctPred * 100 / totalPred}%\")\n"
   ],
   "outputs": [
    {
     "output_type": "stream",
     "name": "stderr",
     "text": [
      "100%|██████████| 2000/2000 [00:00<00:00, 14739.72it/s]"
     ]
    },
    {
     "output_type": "stream",
     "name": "stdout",
     "text": [
      "Accuracy on validataion set: 56.2%\n"
     ]
    },
    {
     "output_type": "stream",
     "name": "stderr",
     "text": [
      "\n"
     ]
    }
   ],
   "metadata": {}
  },
  {
   "cell_type": "markdown",
   "source": [
    "### With using the formula m = k*V, assuming V is the total number of words in training data"
   ],
   "metadata": {}
  },
  {
   "cell_type": "code",
   "execution_count": 80,
   "source": [
    "K = 0.00001\n",
    "correctPred = 0\n",
    "totalPred = 0\n",
    "outFile = './output.txt'\n",
    "with open(outFile, 'a') as f:\n",
    "    f.write(os.linesep + \"Bigram Language Model - Add-k Smoothing With using the formula m = k*V, assuming V is the total number of words in training data\" + os.linesep)\n",
    "    for i in tqdm(range(len(validationData))):\n",
    "        lineToAdd = \"Question: \"\n",
    "        lineToAdd += validationData[i]['question']\n",
    "        words = validationData[i]['question'].split()\n",
    "        words = ['<start>'] + words + ['<end>']\n",
    "        words = [word for word in words if word not in removeSet]\n",
    "        index = words.index('XXXXX')\n",
    "        words[index-1]\n",
    "        options = validationData[i]['options']\n",
    "        counts = []\n",
    "        for option in options:\n",
    "            key = str(words[index-1] + ' ' + option)\n",
    "            prevWordCount = 0\n",
    "            m = K*len(wordSet)\n",
    "            probOpt = wordFreq.get(option, 0) / float(totalWords) #P(Wi)\n",
    "            if words[index-1] in wordFreq:\n",
    "                prevWordCount = wordFreq[words[index-1]]\n",
    "            if key not in bigramFreq:\n",
    "                counts.append(m*probOpt/float(prevWordCount + m))\n",
    "            else:\n",
    "                counts.append(\n",
    "                    (bigramFreq[key]+m*probOpt)/float(prevWordCount + m))\n",
    "        counts = np.array(counts)\n",
    "        pred = np.argmax(counts)\n",
    "        totalPred += 1\n",
    "        lineToAdd += \" Prediction: \"\n",
    "        lineToAdd += options[pred]\n",
    "        if options[pred] == validationData[i]['answer']:\n",
    "            correctPred += 1\n",
    "        f.write(lineToAdd + os.linesep)\n",
    "    print(f\"Accuracy on validataion set: {correctPred * 100 / totalPred}%\")\n"
   ],
   "outputs": [
    {
     "output_type": "stream",
     "name": "stderr",
     "text": [
      "100%|██████████| 2000/2000 [00:00<00:00, 9544.90it/s]"
     ]
    },
    {
     "output_type": "stream",
     "name": "stdout",
     "text": [
      "Accuracy on validataion set: 56.2%\n"
     ]
    },
    {
     "output_type": "stream",
     "name": "stderr",
     "text": [
      "\n"
     ]
    }
   ],
   "metadata": {}
  },
  {
   "cell_type": "markdown",
   "source": [
    "# Bonus"
   ],
   "metadata": {}
  },
  {
   "cell_type": "markdown",
   "source": [
    "## 1. Without Smoothing"
   ],
   "metadata": {}
  },
  {
   "cell_type": "code",
   "execution_count": 81,
   "source": [
    "correctPred = 0\n",
    "totalPred = 0\n",
    "outFile = './output.txt'\n",
    "with open(outFile, 'a') as f:\n",
    "    f.write(os.linesep + \"Bonus Part - Without Smoothing\" + os.linesep)\n",
    "    for i in tqdm(range(len(validationData))):\n",
    "        lineToAdd = \"Question: \"\n",
    "        lineToAdd += validationData[i]['question']\n",
    "        words = validationData[i]['question'].split()\n",
    "        words = ['<start>'] + words + ['<end>']\n",
    "        words = [word for word in words if word not in removeSet]\n",
    "        index = words.index('XXXXX')\n",
    "        options = validationData[i]['options']\n",
    "        counts = []\n",
    "        for option in options:\n",
    "            probPrev = 1.0\n",
    "            probNext = 1.0\n",
    "            keyPrev = str(words[index-1] + ' ' + option)\n",
    "            keyNext = str(option + ' ' + words[index+1])\n",
    "            if keyPrev not in bigramFreq:\n",
    "                probPrev = 0.0\n",
    "            else:\n",
    "                probPrev = bigramFreq[keyPrev]/float(wordFreq[words[index-1]])\n",
    "            if keyNext not in bigramFreq:\n",
    "                probNext = 0.0\n",
    "            else:\n",
    "                probNext = bigramFreq[keyNext]/float(wordFreq[option])\n",
    "            counts.append(probPrev * probNext)\n",
    "        counts = np.array(counts)\n",
    "        pred = np.argmax(counts)\n",
    "        totalPred += 1\n",
    "        lineToAdd += \" Prediction: \"\n",
    "        lineToAdd += options[pred]\n",
    "        if options[pred] == validationData[i]['answer']:\n",
    "            correctPred += 1\n",
    "        f.write(lineToAdd + os.linesep)\n",
    "    print(f\"Accuracy on validataion set: {correctPred * 100 / totalPred}%\")\n"
   ],
   "outputs": [
    {
     "output_type": "stream",
     "name": "stderr",
     "text": [
      "100%|██████████| 2000/2000 [00:00<00:00, 10411.51it/s]"
     ]
    },
    {
     "output_type": "stream",
     "name": "stdout",
     "text": [
      "Accuracy on validataion set: 74.45%\n"
     ]
    },
    {
     "output_type": "stream",
     "name": "stderr",
     "text": [
      "\n"
     ]
    }
   ],
   "metadata": {}
  },
  {
   "cell_type": "markdown",
   "source": [
    "## 2. Add-1 Smoothing"
   ],
   "metadata": {}
  },
  {
   "cell_type": "code",
   "execution_count": 82,
   "source": [
    "correctPred = 0\n",
    "totalPred = 0\n",
    "outFile = './output.txt'\n",
    "with open(outFile, 'a') as f:\n",
    "    f.write(os.linesep + \"Bonus Part - Add-1 Smoothing\" + os.linesep)\n",
    "    for i in tqdm(range(len(validationData))):\n",
    "        lineToAdd = \"Question: \"\n",
    "        lineToAdd += validationData[i]['question']\n",
    "        words = validationData[i]['question'].split()\n",
    "        words = ['<start>'] + words + ['<end>']\n",
    "        words = [word for word in words if word not in removeSet]\n",
    "        index = words.index('XXXXX')\n",
    "        options = validationData[i]['options']\n",
    "        counts = []\n",
    "        for option in options:\n",
    "            probPrev = 1.0\n",
    "            probNext = 1.0\n",
    "            keyPrev = str(words[index-1] + ' ' + option)\n",
    "            keyNext = str(option + ' ' + words[index+1])\n",
    "            if keyPrev not in bigramFreq:\n",
    "                probPrev = 1.0/float(len(wordSet))\n",
    "            else:\n",
    "                probPrev = (bigramFreq[keyPrev] + 1.0)/float(wordFreq[words[index-1]] + len(wordSet))\n",
    "            if keyNext not in bigramFreq:\n",
    "                probNext = 1.0/float(len(wordSet))\n",
    "            else:\n",
    "                probNext = (bigramFreq[keyNext] + 1.0)/float(wordFreq[option] + len(wordSet))\n",
    "            counts.append(probPrev * probNext)\n",
    "        counts = np.array(counts)\n",
    "        pred = np.argmax(counts)\n",
    "        totalPred += 1\n",
    "        lineToAdd += \" Prediction: \"\n",
    "        lineToAdd += options[pred]\n",
    "        if options[pred] == validationData[i]['answer']:\n",
    "            correctPred += 1\n",
    "        f.write(lineToAdd + os.linesep)\n",
    "    print(f\"Accuracy on validataion set: {correctPred * 100 / totalPred}%\")\n"
   ],
   "outputs": [
    {
     "output_type": "stream",
     "name": "stderr",
     "text": [
      "100%|██████████| 2000/2000 [00:00<00:00, 10890.52it/s]"
     ]
    },
    {
     "output_type": "stream",
     "name": "stdout",
     "text": [
      "Accuracy on validataion set: 68.8%\n"
     ]
    },
    {
     "output_type": "stream",
     "name": "stderr",
     "text": [
      "\n"
     ]
    }
   ],
   "metadata": {}
  },
  {
   "cell_type": "markdown",
   "source": [
    "## 3. Add-k Smoothing"
   ],
   "metadata": {}
  },
  {
   "cell_type": "markdown",
   "source": [
    "### Without using the formula m = k*V"
   ],
   "metadata": {}
  },
  {
   "cell_type": "code",
   "execution_count": 83,
   "source": [
    "K = 0.001\n",
    "correctPred = 0\n",
    "totalPred = 0\n",
    "outFile = './output.txt'\n",
    "with open(outFile, 'a') as f:\n",
    "    f.write(os.linesep + \"Bonus Part - Add-k Smoothing Without using the formula m = k*V\" + os.linesep)\n",
    "    for i in tqdm(range(len(validationData))):\n",
    "        lineToAdd = \"Question: \"\n",
    "        lineToAdd += validationData[i]['question']\n",
    "        words = validationData[i]['question'].split()\n",
    "        words = ['<start>'] + words + ['<end>']\n",
    "        words = [word for word in words if word not in removeSet]\n",
    "        index = words.index('XXXXX')\n",
    "        options = validationData[i]['options']\n",
    "        counts = []\n",
    "        for option in options:\n",
    "            probPrev = 1.0\n",
    "            probNext = 1.0\n",
    "            keyPrev = str(words[index-1] + ' ' + option)\n",
    "            keyNext = str(option + ' ' + words[index+1])\n",
    "            if keyPrev not in bigramFreq:\n",
    "                probPrev = K/float(K*len(wordSet))\n",
    "            else:\n",
    "                probPrev = (bigramFreq[keyPrev] + K)/float(wordFreq[words[index-1]] + K*len(wordSet))\n",
    "            if keyNext not in bigramFreq:\n",
    "                probNext = K/float(K*len(wordSet))\n",
    "            else:\n",
    "                probNext = (bigramFreq[keyNext] + K)/float(wordFreq[option] + K*len(wordSet))\n",
    "            counts.append(probPrev * probNext)\n",
    "        counts = np.array(counts)\n",
    "        pred = np.argmax(counts)\n",
    "        totalPred += 1\n",
    "        lineToAdd += \" Prediction: \"\n",
    "        lineToAdd += options[pred]\n",
    "        if options[pred] == validationData[i]['answer']:\n",
    "            correctPred += 1\n",
    "        f.write(lineToAdd + os.linesep)\n",
    "    print(f\"Accuracy on validataion set: {correctPred * 100 / totalPred}%\")\n"
   ],
   "outputs": [
    {
     "output_type": "stream",
     "name": "stderr",
     "text": [
      "100%|██████████| 2000/2000 [00:00<00:00, 8671.67it/s]"
     ]
    },
    {
     "output_type": "stream",
     "name": "stdout",
     "text": [
      "Accuracy on validataion set: 74.35%\n"
     ]
    },
    {
     "output_type": "stream",
     "name": "stderr",
     "text": [
      "\n"
     ]
    }
   ],
   "metadata": {}
  },
  {
   "cell_type": "markdown",
   "source": [
    "### With using the formula m = k*V, assuming V is the number of distinct words in vocabulary"
   ],
   "metadata": {}
  },
  {
   "cell_type": "code",
   "execution_count": 84,
   "source": [
    "K = 0.00000001\n",
    "correctPred = 0\n",
    "totalPred = 0\n",
    "outFile = './output.txt'\n",
    "with open(outFile, 'a') as f:\n",
    "    f.write(os.linesep + \"Bonus Part - Add-k Smoothing With using the formula m = k*V, assuming V is the number of distinct words in vocabulary\" + os.linesep)\n",
    "    for i in tqdm(range(len(validationData))):\n",
    "        lineToAdd = \"Question: \"\n",
    "        lineToAdd += validationData[i]['question']\n",
    "        words = validationData[i]['question'].split()\n",
    "        words = ['<start>'] + words + ['<end>']\n",
    "        words = [word for word in words if word not in removeSet]\n",
    "        index = words.index('XXXXX')\n",
    "        options = validationData[i]['options']\n",
    "        counts = []\n",
    "        for option in options:\n",
    "            probPrev = 1.0\n",
    "            probNext = 1.0\n",
    "            keyPrev = str(words[index-1] + ' ' + option)\n",
    "            keyNext = str(option + ' ' + words[index+1])\n",
    "            m = K*len(wordSet)\n",
    "            probOpt = 1 / float(len(wordSet)) #P(Wi)\n",
    "            if keyPrev not in bigramFreq:\n",
    "                probPrev = (m*probOpt) / float(m + wordFreq.get(words[index-1], 0))\n",
    "            else:\n",
    "                probPrev = (bigramFreq[keyPrev] + (m*probOpt))/float(m + wordFreq.get(words[index-1], 0))\n",
    "            if keyNext not in bigramFreq:\n",
    "                probPrev = (m*probOpt)/float(m + wordFreq.get(option, 0))\n",
    "            else:\n",
    "                probNext = (bigramFreq[keyNext] + (m*probOpt))/float(m + wordFreq.get(option, 0))\n",
    "            counts.append(probPrev * probNext)\n",
    "        counts = np.array(counts)\n",
    "        pred = np.argmax(counts)\n",
    "        totalPred += 1\n",
    "        lineToAdd += \" Prediction: \"\n",
    "        lineToAdd += options[pred]\n",
    "        if options[pred] == validationData[i]['answer']:\n",
    "            correctPred += 1\n",
    "        f.write(lineToAdd + os.linesep)\n",
    "    print(f\"Accuracy on validataion set: {correctPred * 100 / totalPred}%\")"
   ],
   "outputs": [
    {
     "output_type": "stream",
     "name": "stderr",
     "text": [
      "100%|██████████| 2000/2000 [00:00<00:00, 10024.57it/s]"
     ]
    },
    {
     "output_type": "stream",
     "name": "stdout",
     "text": [
      "Accuracy on validataion set: 74.45%\n"
     ]
    },
    {
     "output_type": "stream",
     "name": "stderr",
     "text": [
      "\n"
     ]
    }
   ],
   "metadata": {}
  },
  {
   "cell_type": "markdown",
   "source": [
    "### With using the formula m = k*V, assuming V is the total number of words in the vocabulary"
   ],
   "metadata": {}
  },
  {
   "cell_type": "code",
   "execution_count": 85,
   "source": [
    "K = 0.000001\n",
    "correctPred = 0\n",
    "totalPred = 0\n",
    "outFile = './output.txt'\n",
    "with open(outFile, 'a') as f:\n",
    "    f.write(os.linesep + \"Bonus Part - Add-k Smoothing With using the formula m = k*V, assuming V is the total number of words in the vocabulary\" + os.linesep)\n",
    "    for i in tqdm(range(len(validationData))):\n",
    "        lineToAdd = \"Question: \"\n",
    "        lineToAdd += validationData[i]['question']\n",
    "        words = validationData[i]['question'].split()\n",
    "        words = ['<start>'] + words + ['<end>']\n",
    "        words = [word for word in words if word not in removeSet]\n",
    "        index = words.index('XXXXX')\n",
    "        options = validationData[i]['options']\n",
    "        counts = []\n",
    "        for option in options:\n",
    "            probPrev = 1.0\n",
    "            probNext = 1.0\n",
    "            keyPrev = str(words[index-1] + ' ' + option)\n",
    "            keyNext = str(option + ' ' + words[index+1])\n",
    "            m = K*len(wordSet)\n",
    "            probOpt = wordFreq.get(option, 0) / float(totalWords)  #P(Wi)\n",
    "            if keyPrev not in bigramFreq:\n",
    "                probPrev = (m*probOpt)/float(m + wordFreq.get(words[index-1], 0))\n",
    "            else:\n",
    "                probPrev = (bigramFreq[keyPrev] + (m*probOpt))/float(m +\n",
    "                                    wordFreq.get(words[index-1], 0))\n",
    "            if keyNext not in bigramFreq:\n",
    "                probPrev = (m*probOpt)/float(m +\n",
    "                                    wordFreq.get(option, 0))\n",
    "            else:\n",
    "                probNext = (bigramFreq[keyNext] + (m*probOpt))/float(m +\n",
    "                                                    wordFreq.get(option, 0))\n",
    "            counts.append(probPrev * probNext)\n",
    "        counts = np.array(counts)\n",
    "        pred = np.argmax(counts)\n",
    "        totalPred += 1\n",
    "        lineToAdd += \" Prediction: \"\n",
    "        lineToAdd += options[pred]\n",
    "        if options[pred] == validationData[i]['answer']:\n",
    "            correctPred += 1\n",
    "        f.write(lineToAdd + os.linesep)\n",
    "    print(f\"Accuracy on validataion set: {correctPred * 100 / totalPred}%\")\n"
   ],
   "outputs": [
    {
     "output_type": "stream",
     "name": "stderr",
     "text": [
      "100%|██████████| 2000/2000 [00:00<00:00, 9319.75it/s]"
     ]
    },
    {
     "output_type": "stream",
     "name": "stdout",
     "text": [
      "Accuracy on validataion set: 74.7%\n"
     ]
    },
    {
     "output_type": "stream",
     "name": "stderr",
     "text": [
      "\n"
     ]
    }
   ],
   "metadata": {}
  }
 ],
 "metadata": {
  "orig_nbformat": 4,
  "language_info": {
   "name": "python",
   "version": "3.9.1",
   "mimetype": "text/x-python",
   "codemirror_mode": {
    "name": "ipython",
    "version": 3
   },
   "pygments_lexer": "ipython3",
   "nbconvert_exporter": "python",
   "file_extension": ".py"
  },
  "kernelspec": {
   "name": "python3",
   "display_name": "Python 3.9.1 64-bit"
  },
  "interpreter": {
   "hash": "aee8b7b246df8f9039afb4144a1f6fd8d2ca17a180786b69acc140d282b71a49"
  }
 },
 "nbformat": 4,
 "nbformat_minor": 2
}